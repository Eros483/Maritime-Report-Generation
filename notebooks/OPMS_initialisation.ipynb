{
 "cells": [
  {
   "cell_type": "code",
   "execution_count": 1,
   "id": "4bf7c951",
   "metadata": {},
   "outputs": [],
   "source": [
    "import sqlite3\n",
    "import os\n",
    "from typing import List\n",
    "import re\n",
    "import sqlite3\n",
    "import sys"
   ]
  },
  {
   "cell_type": "code",
   "execution_count": 2,
   "id": "d293adfe",
   "metadata": {},
   "outputs": [],
   "source": [
    "def join_broken_lines(sql_raw: str) -> str:\n",
    "    # Join lines ending mid-word (like INTEG\\nER(...)) with the next line\n",
    "    return re.sub(r'(\\w+)\\n(\\w+)', r'\\1\\2', sql_raw)\n"
   ]
  },
  {
   "cell_type": "code",
   "execution_count": 3,
   "id": "2e5f1cb6",
   "metadata": {},
   "outputs": [],
   "source": [
    "def convert_mysql_to_sqlite_syntax(mysql_sql_content: str) -> str:\n",
    "    sql = mysql_sql_content\n",
    "\n",
    "    sql = sql.replace('`', '')  # Remove backticks\n",
    "\n",
    "    sql = re.sub(r'\\bINTEG\\s*\\n\\s*ER\\b', 'INTEGER', sql, flags=re.IGNORECASE)\n",
    "    sql = re.sub(r'\\bCHARAC\\s*\\n\\s*TER\\b', 'CHARACTER', sql, flags=re.IGNORECASE)\n",
    "\n",
    "    # Replace types\n",
    "    sql = re.sub(r'\\bINTEGER\\(\\d+\\)', 'INTEGER', sql, flags=re.IGNORECASE)\n",
    "    sql = re.sub(r'\\bTINYINT(?:\\(\\d+\\))?\\b', 'INTEGER', sql, flags=re.IGNORECASE)\n",
    "    sql = re.sub(r'\\bINT(?:\\(\\d+\\))?\\b', 'INTEGER', sql, flags=re.IGNORECASE)\n",
    "    sql = re.sub(r'\\bVARCHAR(?:\\(\\d+\\))?\\b', 'TEXT', sql, flags=re.IGNORECASE)\n",
    "    sql = re.sub(r'\\bCHAR(?:\\(\\d+\\))?\\b', 'TEXT', sql, flags=re.IGNORECASE)\n",
    "    sql = re.sub(r'\\bTEXT\\(\\d+\\)', 'TEXT', sql, flags=re.IGNORECASE)\n",
    "    sql = re.sub(r'\\bLONGTEXT\\b', 'TEXT', sql, flags=re.IGNORECASE)\n",
    "    sql = re.sub(r'\\bMEDIUMTEXT\\b', 'TEXT', sql, flags=re.IGNORECASE)\n",
    "    sql = re.sub(r'\\bBLOB(?:\\(\\d+\\))?\\b', 'BLOB', sql, flags=re.IGNORECASE)\n",
    "    sql = re.sub(r'\\bDATETIME(?:\\(\\d+\\))?\\b', 'TEXT', sql, flags=re.IGNORECASE)\n",
    "    sql = re.sub(r'\\bDATE(?:\\(\\d+\\))?\\b', 'TEXT', sql, flags=re.IGNORECASE)\n",
    "\n",
    "    # Remove problematic SQL features\n",
    "    sql = re.sub(r'\\bAUTO_INCREMENT\\b', '', sql, flags=re.IGNORECASE)\n",
    "    sql = re.sub(r'\\bUNSIGNED\\b', '', sql, flags=re.IGNORECASE)\n",
    "    sql = re.sub(r'DEFAULT\\s+NULL', '', sql, flags=re.IGNORECASE)\n",
    "    sql = re.sub(r'DEFAULT\\s+\\'null\\'', '', sql, flags=re.IGNORECASE)\n",
    "    sql = re.sub(r'DEFAULT\\s+\\'(\\d+)\\'', r'DEFAULT \\1', sql, flags=re.IGNORECASE)\n",
    "\n",
    "    # Fix TEXT column named 'TEXT'\n",
    "    sql = re.sub(r'\\bTEXT\\s+TEXT\\b', '\"TEXT\" TEXT', sql, flags=re.IGNORECASE)\n",
    "\n",
    "    # Replace default CURRENT_TIMESTAMP\n",
    "    sql = re.sub(r'DEFAULT\\s+CURRENT_TIMESTAMP(?:\\(\\))?', \"DEFAULT (datetime('now'))\", sql, flags=re.IGNORECASE)\n",
    "\n",
    "    # Remove table options\n",
    "    sql = re.sub(r'\\s+ENGINE=\\w+\\b', '', sql, flags=re.IGNORECASE)\n",
    "    sql = re.sub(r'\\s+DEFAULT\\s+CHARSET=\\w+\\b', '', sql, flags=re.IGNORECASE)\n",
    "    sql = re.sub(r'\\s+COLLATE\\s+\\w+\\b', '', sql, flags=re.IGNORECASE)\n",
    "\n",
    "    # Remove KEYs/INDEXes\n",
    "    sql = re.sub(r'^\\s*(UNIQUE\\s+)?KEY\\s+\\w+\\s*\\([^)]+\\)\\s*,?\\s*$', '', sql, flags=re.MULTILINE | re.IGNORECASE)\n",
    "    sql = re.sub(r'^\\s*(INDEX|KEY)\\s+\\w+\\s*\\([^)]+\\)\\s*,?\\s*$', '', sql, flags=re.MULTILINE | re.IGNORECASE)\n",
    "\n",
    "    # Remove foreign key constraints\n",
    "    sql = re.sub(r'CONSTRAINT\\s+\\w+\\s+FOREIGN\\s+KEY\\s*\\([^)]+\\)\\s+REFERENCES\\s+[^\\n,]+(?:,\\n|\\n|,)?', '', sql, flags=re.IGNORECASE)\n",
    "\n",
    "    # Remove other MySQL stuff\n",
    "    sql = re.sub(r'DELIMITER\\s+\\S+', '', sql, flags=re.IGNORECASE)\n",
    "    sql = re.sub(r'LOCK TABLES\\s+[^\\;]+;', '', sql, flags=re.IGNORECASE)\n",
    "    sql = re.sub(r'UNLOCK TABLES\\s*;', '', sql, flags=re.IGNORECASE)\n",
    "    sql = re.sub(r'/\\*\\![0-9]+.*?\\*/', '', sql, flags=re.DOTALL)\n",
    "    sql = re.sub(r'^\\s*SET\\s+[^;]+;', '', sql, flags=re.MULTILINE | re.IGNORECASE)\n",
    "    sql = re.sub(r'SET\\s+[^;]+;', '', sql, flags=re.IGNORECASE)\n",
    "    sql = re.sub(r'^=\\s*[^;]+;', '', sql, flags=re.MULTILINE)\n",
    "\n",
    "    # Clean up excessive semicolons\n",
    "    sql = re.sub(r'^\\s*;\\s*$', '', sql, flags=re.MULTILINE)  # kill lines that are just ;\n",
    "    sql = re.sub(r';\\s*;+', ';', sql)  # collapse multiple ;; into a single ;\n",
    "\n",
    "    sql = re.sub(r'(\\n\\s*\\w+\\s*)\\n\\s*', r'\\1 ', sql)  # join identifier line with type line\n",
    "    sql = re.sub(r'^\\s*\\w+\\s*(,)?\\s*$', '', sql, flags=re.MULTILINE)  \n",
    "\n",
    "    # Final cleanup\n",
    "    sql = re.sub(r',\\s*\\)', ')', sql)  # trailing commas\n",
    "    sql = re.sub(r',\\s*,', ',', sql)\n",
    "    sql = '\\n'.join(line for line in sql.splitlines() if line.strip())  # remove blank lines\n",
    "\n",
    "    sql = re.sub(r'--.*MySQL dump.*', '', sql, flags=re.IGNORECASE)\n",
    "\n",
    "    return sql.strip()\n"
   ]
  },
  {
   "cell_type": "code",
   "execution_count": 4,
   "id": "be90bb6b",
   "metadata": {},
   "outputs": [],
   "source": [
    "def process_sql_files_for_sqlite(input_folder, output_folder, sql_file_names):\n",
    "    if not os.path.exists(output_folder):\n",
    "        os.makedirs(output_folder)\n",
    "        print(f\"Created output folder for converted SQL files: {output_folder}\")\n",
    "\n",
    "    converted_paths = []\n",
    "    for file_name in sql_file_names:\n",
    "        input_file_path = os.path.join(input_folder, file_name)\n",
    "        output_file_name = file_name.replace('.sql', '_sqlite.sql')\n",
    "        output_file_path = os.path.join(output_folder, output_file_name)\n",
    "\n",
    "        if not os.path.exists(input_file_path):\n",
    "            print(f\"Skipping: Input file not found: {input_file_path}\")\n",
    "            continue\n",
    "\n",
    "        print(f\"Converting '{file_name}' to SQLite syntax...\")\n",
    "        try:\n",
    "            with open(input_file_path, 'r', encoding='utf-8') as f_in:\n",
    "                mysql_content = f_in.read()\n",
    "\n",
    "            mysql_content = join_broken_lines(mysql_content)\n",
    "            sqlite_content = convert_mysql_to_sqlite_syntax(mysql_content)\n",
    "\n",
    "            with open(output_file_path, 'w', encoding='utf-8') as f_out:\n",
    "                f_out.write(sqlite_content)\n",
    "            print(f\"Successfully converted and saved to: {output_file_path}\")\n",
    "            converted_paths.append(output_file_path)\n",
    "        except Exception as e:\n",
    "            print(f\"Error converting '{file_name}': {e}\")\n",
    "            import traceback\n",
    "            traceback.print_exc() # Print full error for debugging\n",
    "\n",
    "    return converted_paths"
   ]
  },
  {
   "cell_type": "code",
   "execution_count": 5,
   "id": "d735a958",
   "metadata": {},
   "outputs": [],
   "source": [
    "def initialise_db(db_uri: str, sql_files: List[str], overwrite_existing: bool = False):\n",
    "    db_file_path = db_uri.replace(\"sqlite:///\", \"\")\n",
    "\n",
    "    if overwrite_existing and os.path.exists(db_file_path):\n",
    "        print(f\"Database file '{db_file_path}' exists. 'overwrite_existing' is True. Deleting it...\")\n",
    "        try:\n",
    "            os.remove(db_file_path)\n",
    "            print(f\"Existing database file '{db_file_path}' deleted successfully.\")\n",
    "        except OSError as e:\n",
    "            print(f\"Error deleting existing database file '{db_file_path}': {e}\")\n",
    "            raise\n",
    "\n",
    "    db_dir = os.path.dirname(db_file_path)\n",
    "    if db_dir and not os.path.exists(db_dir):\n",
    "        os.makedirs(db_dir, exist_ok=True)\n",
    "        print(f\"Created directory for database: {db_dir}\")\n",
    "\n",
    "    conn = None\n",
    "    try:\n",
    "        conn = sqlite3.connect(db_file_path)\n",
    "        cursor = conn.cursor()\n",
    "        print(f\"Connected to database file: {db_file_path}\")\n",
    "\n",
    "        for script_path in sql_files:\n",
    "            if not os.path.exists(script_path):\n",
    "                print(f\"Warning: SQL population script not found: {script_path}. Skipping.\")\n",
    "                continue\n",
    "\n",
    "            with open(script_path, 'r', encoding='utf-8', errors='ignore') as f:\n",
    "                raw_sql = f.read()\n",
    "\n",
    "            converted_sql = convert_mysql_to_sqlite_syntax(raw_sql)\n",
    "\n",
    "            if \"LongCastId\" in converted_sql:\n",
    "                print(\"--- RAW SQL CONTEXT ---\")\n",
    "                idx = converted_sql.index(\"LongCastId\")\n",
    "                print(converted_sql[max(0, idx - 100): idx + 200])\n",
    "\n",
    "            print(f\"Executing script: {script_path}\")\n",
    "            print(converted_sql[:500])\n",
    "            print(f\"----- START SQL DUMP for {script_path} -----\")\n",
    "            print(converted_sql[:1000])\n",
    "            print(f\"----- END SQL DUMP -----\")\n",
    "            cursor.executescript(converted_sql)\n",
    "            print(f\"Executed SQL script: {script_path}\")\n",
    "\n",
    "        conn.commit()\n",
    "        print(f\"Database '{db_file_path}' populated successfully from provided scripts.\")\n",
    "\n",
    "    except sqlite3.Error as e:\n",
    "        print(f\"SQLite error during database initialization: {e}\")\n",
    "        if conn:\n",
    "            conn.rollback()\n",
    "        raise\n",
    "    except Exception as e:\n",
    "        print(f\"An unexpected error occurred during database initialization: {e}\")\n",
    "        raise\n",
    "    finally:\n",
    "        if conn:\n",
    "            conn.close()\n",
    "            print(\"Database connection closed.\")"
   ]
  },
  {
   "cell_type": "code",
   "execution_count": 6,
   "id": "46711f58",
   "metadata": {},
   "outputs": [],
   "source": [
    "current_notebook_dir = os.path.dirname(os.path.abspath(''))\n",
    "\n",
    "input_sql_folder = os.path.join(current_notebook_dir, 'OPMS_sql_files')\n",
    "output_sqlite_sql_folder = os.path.join(current_notebook_dir, 'OPMS_sql_files_sqlite_converted') \n"
   ]
  },
  {
   "cell_type": "code",
   "execution_count": 7,
   "id": "2b354e5f",
   "metadata": {},
   "outputs": [
    {
     "name": "stdout",
     "output_type": "stream",
     "text": [
      "c:\\Users\\caio\\code\\maritime_report_generation\n"
     ]
    }
   ],
   "source": [
    "print(current_notebook_dir)"
   ]
  },
  {
   "cell_type": "code",
   "execution_count": 8,
   "id": "fe50b75c",
   "metadata": {},
   "outputs": [
    {
     "name": "stdout",
     "output_type": "stream",
     "text": [
      "c:\\Users\\caio\\code\\maritime_report_generation\\OPMS_sql_files\n"
     ]
    }
   ],
   "source": [
    "print(input_sql_folder)"
   ]
  },
  {
   "cell_type": "code",
   "execution_count": 9,
   "id": "92b2be59",
   "metadata": {},
   "outputs": [
    {
     "name": "stdout",
     "output_type": "stream",
     "text": [
      "c:\\Users\\caio\\code\\maritime_report_generation\\OPMS_sql_files_sqlite_converted\n"
     ]
    }
   ],
   "source": [
    "print(output_sqlite_sql_folder)"
   ]
  },
  {
   "cell_type": "code",
   "execution_count": 10,
   "id": "ab38c759",
   "metadata": {},
   "outputs": [],
   "source": [
    "absolute_db_path = os.path.join(current_notebook_dir, 'sql_files', 'myDataBase.db')\n",
    "db_uri = f\"sqlite:///{absolute_db_path.replace(os.sep, '/')}\""
   ]
  },
  {
   "cell_type": "code",
   "execution_count": 11,
   "id": "77806c8f",
   "metadata": {},
   "outputs": [
    {
     "name": "stdout",
     "output_type": "stream",
     "text": [
      "sqlite:///c:/Users/caio/code/maritime_report_generation/sql_files/myDataBase.db\n"
     ]
    }
   ],
   "source": [
    "print(db_uri)"
   ]
  },
  {
   "cell_type": "code",
   "execution_count": 12,
   "id": "ce9f9b19",
   "metadata": {},
   "outputs": [],
   "source": [
    "your_original_sql_file_names = [\n",
    "    'OPMS_ANC.sql',\n",
    "    'OPMS_DNO.sql',\n",
    "    'OPMS_ENC.sql',\n",
    "    'OPMS_FNO.sql',\n",
    "    'OPMS_SNC.sql',\n",
    "    'OPMS_WNC.sql',\n",
    "]"
   ]
  },
  {
   "cell_type": "code",
   "execution_count": 13,
   "id": "799bc237",
   "metadata": {},
   "outputs": [
    {
     "name": "stdout",
     "output_type": "stream",
     "text": [
      "Converting 'OPMS_ANC.sql' to SQLite syntax...\n",
      "Successfully converted and saved to: c:\\Users\\caio\\code\\maritime_report_generation\\OPMS_sql_files_sqlite_converted\\OPMS_ANC_sqlite.sql\n",
      "Converting 'OPMS_DNO.sql' to SQLite syntax...\n",
      "Successfully converted and saved to: c:\\Users\\caio\\code\\maritime_report_generation\\OPMS_sql_files_sqlite_converted\\OPMS_DNO_sqlite.sql\n",
      "Converting 'OPMS_ENC.sql' to SQLite syntax...\n",
      "Successfully converted and saved to: c:\\Users\\caio\\code\\maritime_report_generation\\OPMS_sql_files_sqlite_converted\\OPMS_ENC_sqlite.sql\n",
      "Converting 'OPMS_FNO.sql' to SQLite syntax...\n",
      "Successfully converted and saved to: c:\\Users\\caio\\code\\maritime_report_generation\\OPMS_sql_files_sqlite_converted\\OPMS_FNO_sqlite.sql\n",
      "Converting 'OPMS_SNC.sql' to SQLite syntax...\n",
      "Successfully converted and saved to: c:\\Users\\caio\\code\\maritime_report_generation\\OPMS_sql_files_sqlite_converted\\OPMS_SNC_sqlite.sql\n",
      "Converting 'OPMS_WNC.sql' to SQLite syntax...\n",
      "Successfully converted and saved to: c:\\Users\\caio\\code\\maritime_report_generation\\OPMS_sql_files_sqlite_converted\\OPMS_WNC_sqlite.sql\n"
     ]
    }
   ],
   "source": [
    "converted_sql_file_paths=process_sql_files_for_sqlite(\n",
    "    input_sql_folder,\n",
    "    output_sqlite_sql_folder, \n",
    "    your_original_sql_file_names\n",
    ")"
   ]
  },
  {
   "cell_type": "code",
   "execution_count": 14,
   "id": "f871a589",
   "metadata": {},
   "outputs": [],
   "source": [
    "overwrite_existing_db = True "
   ]
  },
  {
   "cell_type": "code",
   "execution_count": 15,
   "id": "aa5c5127",
   "metadata": {},
   "outputs": [
    {
     "name": "stdout",
     "output_type": "stream",
     "text": [
      "Database file 'c:/Users/caio/code/maritime_report_generation/sql_files/myDataBase.db' exists. 'overwrite_existing' is True. Deleting it...\n",
      "Existing database file 'c:/Users/caio/code/maritime_report_generation/sql_files/myDataBase.db' deleted successfully.\n",
      "Connected to database file: c:/Users/caio/code/maritime_report_generation/sql_files/myDataBase.db\n",
      "--- RAW SQL CONTEXT ---\n",
      "GER NOT NULL ,\n",
      "  \"TEXT\" TEXT ,\n",
      "  ActionName TEXT ,\n",
      "  Status INTEGER DEFAULT 0,\n",
      "  UserId INTEGER ,\n",
      "  LongCastId INTEGER ,\n",
      "  PRIMARY KEY (ActionPendingId));\n",
      "--\n",
      "-- Dumping data for table actionpending\n",
      "--\n",
      "--\n",
      "-- Table structure for table aircraftallocated\n",
      "--\n",
      "DROP TABLE IF EXISTS aircraftallocated;\n",
      "CREATE\n",
      "Executing script: c:\\Users\\caio\\code\\maritime_report_generation\\OPMS_sql_files_sqlite_converted\\OPMS_ANC_sqlite.sql\n",
      "--\n",
      "-- Host: localhost    Database: OPMS_ANC\n",
      "-- ------------------------------------------------------\n",
      "-- Server version\t10.1.18-MariaDB\n",
      "--\n",
      "-- Table structure for table actionpending\n",
      "--\n",
      "DROP TABLE IF EXISTS actionpending;\n",
      "CREATE TABLE actionpending (\n",
      "  ActionPendingId INTEGER NOT NULL ,\n",
      "  \"TEXT\" TEXT ,\n",
      "  ActionName TEXT ,\n",
      "  Status INTEGER DEFAULT 0,\n",
      "  UserId INTEGER ,\n",
      "  LongCastId INTEGER ,\n",
      "  PRIMARY KEY (ActionPendingId));\n",
      "--\n",
      "-- Dumping data for table actionpending\n",
      "--\n",
      "--\n",
      "-- Table structure for t\n",
      "----- START SQL DUMP for c:\\Users\\caio\\code\\maritime_report_generation\\OPMS_sql_files_sqlite_converted\\OPMS_ANC_sqlite.sql -----\n",
      "--\n",
      "-- Host: localhost    Database: OPMS_ANC\n",
      "-- ------------------------------------------------------\n",
      "-- Server version\t10.1.18-MariaDB\n",
      "--\n",
      "-- Table structure for table actionpending\n",
      "--\n",
      "DROP TABLE IF EXISTS actionpending;\n",
      "CREATE TABLE actionpending (\n",
      "  ActionPendingId INTEGER NOT NULL ,\n",
      "  \"TEXT\" TEXT ,\n",
      "  ActionName TEXT ,\n",
      "  Status INTEGER DEFAULT 0,\n",
      "  UserId INTEGER ,\n",
      "  LongCastId INTEGER ,\n",
      "  PRIMARY KEY (ActionPendingId));\n",
      "--\n",
      "-- Dumping data for table actionpending\n",
      "--\n",
      "--\n",
      "-- Table structure for table aircraftallocated\n",
      "--\n",
      "DROP TABLE IF EXISTS aircraftallocated;\n",
      "CREATE TABLE aircraftallocated (\n",
      "  AircraftAllocatedId INTEGER NOT NULL,\n",
      "  SquadronName TEXT ,\n",
      "  SquadronNo TEXT ,\n",
      "  AircraftBoardNo TEXT ,\n",
      "  UnitClassificationId INTEGER ,\n",
      "  Command TEXT ,\n",
      "  PRIMARY KEY (AircraftAllocatedId));\n",
      "--\n",
      "-- Dumping data for table aircraftallocated\n",
      "--\n",
      "--\n",
      "-- Table structure for table aircraftallocatedsc\n",
      "--\n",
      "DROP TABLE IF EXISTS aircraftallocatedsc;\n",
      "CREATE TABLE aircraftallocatedsc (\n",
      "  AircraftAllocatedSCId \n",
      "----- END SQL DUMP -----\n",
      "SQLite error during database initialization: near \"=\": syntax error\n",
      "Database connection closed.\n"
     ]
    },
    {
     "ename": "OperationalError",
     "evalue": "near \"=\": syntax error",
     "output_type": "error",
     "traceback": [
      "\u001b[31m---------------------------------------------------------------------------\u001b[39m",
      "\u001b[31mOperationalError\u001b[39m                          Traceback (most recent call last)",
      "\u001b[36mCell\u001b[39m\u001b[36m \u001b[39m\u001b[32mIn[15]\u001b[39m\u001b[32m, line 1\u001b[39m\n\u001b[32m----> \u001b[39m\u001b[32m1\u001b[39m \u001b[43minitialise_db\u001b[49m\u001b[43m(\u001b[49m\u001b[43mdb_uri\u001b[49m\u001b[43m,\u001b[49m\u001b[43m \u001b[49m\u001b[43mconverted_sql_file_paths\u001b[49m\u001b[43m,\u001b[49m\u001b[43m \u001b[49m\u001b[43moverwrite_existing_db\u001b[49m\u001b[43m)\u001b[49m\n",
      "\u001b[36mCell\u001b[39m\u001b[36m \u001b[39m\u001b[32mIn[5]\u001b[39m\u001b[32m, line 44\u001b[39m, in \u001b[36minitialise_db\u001b[39m\u001b[34m(db_uri, sql_files, overwrite_existing)\u001b[39m\n\u001b[32m     42\u001b[39m     \u001b[38;5;28mprint\u001b[39m(converted_sql[:\u001b[32m1000\u001b[39m])\n\u001b[32m     43\u001b[39m     \u001b[38;5;28mprint\u001b[39m(\u001b[33mf\u001b[39m\u001b[33m\"\u001b[39m\u001b[33m----- END SQL DUMP -----\u001b[39m\u001b[33m\"\u001b[39m)\n\u001b[32m---> \u001b[39m\u001b[32m44\u001b[39m     \u001b[43mcursor\u001b[49m\u001b[43m.\u001b[49m\u001b[43mexecutescript\u001b[49m\u001b[43m(\u001b[49m\u001b[43mconverted_sql\u001b[49m\u001b[43m)\u001b[49m\n\u001b[32m     45\u001b[39m     \u001b[38;5;28mprint\u001b[39m(\u001b[33mf\u001b[39m\u001b[33m\"\u001b[39m\u001b[33mExecuted SQL script: \u001b[39m\u001b[38;5;132;01m{\u001b[39;00mscript_path\u001b[38;5;132;01m}\u001b[39;00m\u001b[33m\"\u001b[39m)\n\u001b[32m     47\u001b[39m conn.commit()\n",
      "\u001b[31mOperationalError\u001b[39m: near \"=\": syntax error"
     ]
    }
   ],
   "source": [
    "initialise_db(db_uri, converted_sql_file_paths, overwrite_existing_db)"
   ]
  }
 ],
 "metadata": {
  "kernelspec": {
   "display_name": "rag_new_env",
   "language": "python",
   "name": "python3"
  },
  "language_info": {
   "codemirror_mode": {
    "name": "ipython",
    "version": 3
   },
   "file_extension": ".py",
   "mimetype": "text/x-python",
   "name": "python",
   "nbconvert_exporter": "python",
   "pygments_lexer": "ipython3",
   "version": "3.11.11"
  }
 },
 "nbformat": 4,
 "nbformat_minor": 5
}
