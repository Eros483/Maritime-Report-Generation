{
 "cells": [
  {
   "cell_type": "code",
   "execution_count": 1,
   "id": "7e38f154",
   "metadata": {},
   "outputs": [],
   "source": [
    "import pandas as pd\n",
    "from geopy.distance import geodesic\n",
    "import llama_cpp\n",
    "import geopandas\n",
    "from shapely.geometry import Point\n",
    "import os"
   ]
  },
  {
   "cell_type": "code",
   "execution_count": 2,
   "id": "af1ad284",
   "metadata": {},
   "outputs": [
    {
     "name": "stderr",
     "output_type": "stream",
     "text": [
      "C:\\Users\\caio\\AppData\\Local\\Temp\\ipykernel_10616\\2228687344.py:6: DeprecationWarning: The 'unary_union' attribute is deprecated, use the 'union_all()' method instead.\n",
      "  eez_geometry=india_eez_gdf.unary_union\n"
     ]
    }
   ],
   "source": [
    "df_data=pd.read_csv(\"../datasets/data.csv\")\n",
    "df_dummy_janes=pd.read_csv(\"../datasets/dummy_janes_POI.csv\")\n",
    "\n",
    "eez_indian_boundaries_path=\"../datasets/india_eez.json\"\n",
    "india_eez_gdf = geopandas.read_file(eez_indian_boundaries_path)\n",
    "eez_geometry=india_eez_gdf.unary_union"
   ]
  },
  {
   "cell_type": "code",
   "execution_count": 3,
   "id": "871b5430",
   "metadata": {},
   "outputs": [],
   "source": [
    "df_dummy_janes['location']=list(zip(df_dummy_janes['latitude'], df_dummy_janes['longitude']))\n",
    "df_data['location']=list(zip(df_data['latitude'], df_data['longitude']))"
   ]
  },
  {
   "cell_type": "code",
   "execution_count": 4,
   "id": "b247fc25",
   "metadata": {},
   "outputs": [],
   "source": [
    "def distance_between_locations(target_location, POI_location):\n",
    "    '''\n",
    "    Calculates distance between two given locations, likely between target be observed, and points of military interest\n",
    "    input: latitude, longitude of target, and latitude, longitude of POI\n",
    "    output: distance\n",
    "    '''\n",
    "    distance=geodesic(target_location, POI_location).kilometers\n",
    "    return distance"
   ]
  },
  {
   "cell_type": "code",
   "execution_count": 5,
   "id": "2fbf29ad",
   "metadata": {},
   "outputs": [],
   "source": [
    "def find_closest_poi(target_location):\n",
    "    '''\n",
    "    Compares distance between target and locations available in JANES database, and returns closest target\n",
    "    input: latitude, longitude of target\n",
    "    output: closest point of military interest\n",
    "    '''\n",
    "    array_distances=[]\n",
    "    \n",
    "    for index, row in df_dummy_janes.iterrows():\n",
    "        poi_location=row['location']\n",
    "        poi_name=row['location_name']\n",
    "\n",
    "        dist=distance_between_locations(target_location, poi_location)\n",
    "        array_distances.append([dist, poi_name])\n",
    "\n",
    "    min_distance=float('inf')\n",
    "    closest_poi=None\n",
    "    for dist, name in array_distances:\n",
    "        if dist<min_distance:\n",
    "            min_distance=dist\n",
    "            closest_poi=name\n",
    "\n",
    "    return closest_poi\n",
    "    "
   ]
  },
  {
   "cell_type": "code",
   "execution_count": 6,
   "id": "55c2c72b",
   "metadata": {},
   "outputs": [],
   "source": [
    "df_data['closest_point_of_mil_interest']=df_data['location'].apply(find_closest_poi)"
   ]
  },
  {
   "cell_type": "code",
   "execution_count": 7,
   "id": "66667ce3",
   "metadata": {},
   "outputs": [],
   "source": [
    "def is_location_in_indian_waters(target_location):\n",
    "    string_true=\"Inside Indian Waters\"\n",
    "    string_false=\"Outside Indian Waters\"\n",
    "\n",
    "    location_point=Point(target_location[1], target_location[0])\n",
    "    if eez_geometry.contains(location_point):\n",
    "        return string_true\n",
    "    else:\n",
    "        return string_false\n",
    "    \n",
    "    "
   ]
  },
  {
   "cell_type": "code",
   "execution_count": 8,
   "id": "a9357c5c",
   "metadata": {},
   "outputs": [],
   "source": [
    "df_data['location_wrt_naval_borders']=df_data['location'].apply(is_location_in_indian_waters)"
   ]
  },
  {
   "cell_type": "code",
   "execution_count": 9,
   "id": "3cdbfcc1",
   "metadata": {},
   "outputs": [
    {
     "name": "stdout",
     "output_type": "stream",
     "text": [
      "Index(['id', 'name', 'latitude', 'longitude', 'range', 'bearing', 'course',\n",
      "       'speed', 'altitude', 'depth', 'reported_by', 'comment', 'hostility',\n",
      "       'category', 'nationality', 'location_wrt_naval_borders',\n",
      "       'closest_point_of_mil_interest', 'time', 'location'],\n",
      "      dtype='object') \n",
      "\n",
      "Index(['latitude', 'longitude', 'location_name', 'location_country',\n",
      "       'location'],\n",
      "      dtype='object')\n"
     ]
    }
   ],
   "source": [
    "print(df_data.columns, \"\\n\")\n",
    "print(df_dummy_janes.columns)"
   ]
  },
  {
   "cell_type": "code",
   "execution_count": 10,
   "id": "c0f02d40",
   "metadata": {},
   "outputs": [
    {
     "name": "stdout",
     "output_type": "stream",
     "text": [
      "     latitude  longitude                             location_name  \\\n",
      "0   18.939300  72.844500                                    mumbai   \n",
      "1   19.005600  72.816300       jawaharlal nehru port (nhava sheva)   \n",
      "2   17.685600  83.216000                             visakhapatnam   \n",
      "3   15.411207  73.799978                            mormugao (goa)   \n",
      "4   13.081500  80.292100                                   chennai   \n",
      "5   21.733300  87.447800                                   paradip   \n",
      "6   22.546100  88.314900          kolkata (syama prasad mookerjee)   \n",
      "7    9.967800  76.280100                            kochi (cochin)   \n",
      "8   12.967400  74.806600                  new mangalore (panambur)   \n",
      "9    8.766700  78.133300             tuticorin (v.o.chidambaranar)   \n",
      "10  13.191100  80.292100                        ennore (kamarajar)   \n",
      "11  11.623900  92.730300                                port blair   \n",
      "12  24.835600  66.981400                              karachi port   \n",
      "13  24.785000  67.054000                                port qasim   \n",
      "14  25.124300  62.322200                               gwadar port   \n",
      "15  22.338000  91.791700                   chittagong (chattogram)   \n",
      "16  22.555100  89.680000                                    mongla   \n",
      "17   6.951400  79.847800                              colombo port   \n",
      "18   6.128300  81.102300                           hambantota port   \n",
      "19   8.583700  81.233000                          trincomalee port   \n",
      "20   6.204800  73.514000                           male (maldives)   \n",
      "21   1.283300  36.816700  mtwapa/ malindi? no focus Kenya not IOR?   \n",
      "22  24.633300  54.366700                     port khalid (sharjah)   \n",
      "23  25.065700  55.171300                         jebel ali (dubai)   \n",
      "24  15.354700  39.857900                                 aden port   \n",
      "25  18.160100  41.137100                               al qunfotha   \n",
      "26  -6.816900  39.283300                             dar es salaam   \n",
      "27  -5.066700  39.100000                                    mtwara   \n",
      "28  -6.163000  39.197000                                     tanga   \n",
      "29  -6.163900  39.202000                                  zanzibar   \n",
      "30 -26.133000  28.050000                                    durban   \n",
      "31 -25.625900  32.554600                            port of maputo   \n",
      "32 -18.150000  49.400000                    toamasina (madagascar)   \n",
      "33 -25.016700  46.950000                   fort dauphin (tamatave)   \n",
      "34 -23.350000  43.666700                          toliara (tulear)   \n",
      "\n",
      "   location_country                location  \n",
      "0             India      (18.9393, 72.8445)  \n",
      "1             India      (19.0056, 72.8163)  \n",
      "2             India       (17.6856, 83.216)  \n",
      "3             India  (15.411207, 73.799978)  \n",
      "4             India      (13.0815, 80.2921)  \n",
      "5             India      (21.7333, 87.4478)  \n",
      "6             India      (22.5461, 88.3149)  \n",
      "7             India       (9.9678, 76.2801)  \n",
      "8             India      (12.9674, 74.8066)  \n",
      "9             India       (8.7667, 78.1333)  \n",
      "10            India      (13.1911, 80.2921)  \n",
      "11            India      (11.6239, 92.7303)  \n",
      "12         Pakistan      (24.8356, 66.9814)  \n",
      "13         Pakistan        (24.785, 67.054)  \n",
      "14         Pakistan      (25.1243, 62.3222)  \n",
      "15       Bangladesh       (22.338, 91.7917)  \n",
      "16       Bangladesh        (22.5551, 89.68)  \n",
      "17        Sri Lanka       (6.9514, 79.8478)  \n",
      "18        Sri Lanka       (6.1283, 81.1023)  \n",
      "19        Sri Lanka        (8.5837, 81.233)  \n",
      "20         Maldives        (6.2048, 73.514)  \n",
      "21              NaN       (1.2833, 36.8167)  \n",
      "22              UAE      (24.6333, 54.3667)  \n",
      "23              UAE      (25.0657, 55.1713)  \n",
      "24            Yemen      (15.3547, 39.8579)  \n",
      "25     Saudi Arabia      (18.1601, 41.1371)  \n",
      "26         Tanzania      (-6.8169, 39.2833)  \n",
      "27         Tanzania         (-5.0667, 39.1)  \n",
      "28         Tanzania        (-6.163, 39.197)  \n",
      "29         Tanzania       (-6.1639, 39.202)  \n",
      "30     South Africa        (-26.133, 28.05)  \n",
      "31       Mozambique     (-25.6259, 32.5546)  \n",
      "32       Madagascar          (-18.15, 49.4)  \n",
      "33       Madagascar       (-25.0167, 46.95)  \n",
      "34       Madagascar       (-23.35, 43.6667)  \n",
      "      id     name  latitude  longitude   range  bearing  course   speed  \\\n",
      "0   2004    Ghazi  20.44000    69.2300  204.60    300.7   127.5     5.4   \n",
      "1   2001   Rafale  19.58560    67.2376  138.00    293.7   149.7   735.0   \n",
      "2   2001   Rafale  19.55890    70.1600  127.90    290.3   166.9   385.0   \n",
      "3   2001   Rafale  19.44400    70.2316  123.00    287.9   121.3   615.0   \n",
      "4   2001   Rafale  19.37890    70.2477  113.28    286.6   129.5   443.3   \n",
      "5   2001   Rafale  19.63267    70.3389  101.50    284.1    57.4  1300.8   \n",
      "6   2002  Titanic  19.52460    71.4374   68.30    320.3   169.7    30.4   \n",
      "7   2002  Titanic  19.51940    71.4384   67.80    320.0   169.7    30.4   \n",
      "8   2002  Titanic  19.50950    71.4345   67.30    319.3   162.3    29.9   \n",
      "9   2002  Titanic  19.50460    71.4362   66.85    319.1   162.3    29.9   \n",
      "10  2003      Jin  17.44780    72.2010   75.90    187.1   331.3    21.2   \n",
      "11  2003      Jin  17.45140    72.1989   75.50    187.3   331.3    21.2   \n",
      "12  2003      Jin  17.45430    72.1977   75.30    187.4    48.8    23.0   \n",
      "13  2003      Jin  17.45060    72.2005   75.00    187.2    49.5    23.0   \n",
      "14  2003      Jin  17.45850    72.2000   74.80    187.0    80.5    29.8   \n",
      "\n",
      "    altitude  depth reported_by                                     comment  \\\n",
      "0          0      0     Utkarsh  Seems to be approaching territorial waters   \n",
      "1     120001      0       Arnab                           Erratic movements   \n",
      "2     120001      0       Arnab                           Erratic movements   \n",
      "3     120001      0       Arnab                           Erratic movements   \n",
      "4     120001      0       Arnab                           Erratic movements   \n",
      "5     120001      0       Arnab                           Erratic movements   \n",
      "6          0      0      Ravina                  Approaching Hazardous Area   \n",
      "7          0      0      Ravina                  Approaching Hazardous Area   \n",
      "8          0      0      Ravina                  Approaching Hazardous Area   \n",
      "9          0      0      Ravina                  Approaching Hazardous Area   \n",
      "10         0    200      Dhiraj                  Seems to be diving rapidly   \n",
      "11         0    210      Dhiraj                  Seems to be diving rapidly   \n",
      "12         0    210      Dhiraj                  Seems to be diving rapidly   \n",
      "13         0    210      Dhiraj                  Seems to be diving rapidly   \n",
      "14         0    210      Dhiraj                  Seems to be diving rapidly   \n",
      "\n",
      "   hostility    category nationality location_wrt_naval_borders  \\\n",
      "0    Hostile     Surface   Pakistani       Inside Indian Waters   \n",
      "1   Friendly         air      Indian       Inside Indian Waters   \n",
      "2   Friendly         air      Indian       Inside Indian Waters   \n",
      "3   Friendly         air      Indian       Inside Indian Waters   \n",
      "4   Friendly         air      Indian       Inside Indian Waters   \n",
      "5   Friendly         air      Indian       Inside Indian Waters   \n",
      "6    Neutral     surface          US       Inside Indian Waters   \n",
      "7    Neutral     surface          US       Inside Indian Waters   \n",
      "8    Neutral     surface          US       Inside Indian Waters   \n",
      "9    Neutral     surface          US       Inside Indian Waters   \n",
      "10   Hostile  subsurface     Chinese       Inside Indian Waters   \n",
      "11   Hostile  subsurface     Chinese       Inside Indian Waters   \n",
      "12   Hostile  subsurface     Chinese       Inside Indian Waters   \n",
      "13   Hostile  subsurface     Chinese       Inside Indian Waters   \n",
      "14   Hostile  subsurface     Chinese       Inside Indian Waters   \n",
      "\n",
      "          closest_point_of_mil_interest      time             location  \n",
      "0   jawaharlal nehru port (nhava sheva)  11:25:58       (20.44, 69.23)  \n",
      "1                            port qasim  12:02:47   (19.5856, 67.2376)  \n",
      "2   jawaharlal nehru port (nhava sheva)  12:03:47     (19.5589, 70.16)  \n",
      "3   jawaharlal nehru port (nhava sheva)  12:04:47    (19.444, 70.2316)  \n",
      "4   jawaharlal nehru port (nhava sheva)  12:05:47   (19.3789, 70.2477)  \n",
      "5   jawaharlal nehru port (nhava sheva)  12:06:47  (19.63267, 70.3389)  \n",
      "6   jawaharlal nehru port (nhava sheva)  11:13:18   (19.5246, 71.4374)  \n",
      "7   jawaharlal nehru port (nhava sheva)  11:14:18   (19.5194, 71.4384)  \n",
      "8   jawaharlal nehru port (nhava sheva)  11:16:18   (19.5095, 71.4345)  \n",
      "9   jawaharlal nehru port (nhava sheva)  11:17:18   (19.5046, 71.4362)  \n",
      "10                               mumbai  11:13:51    (17.4478, 72.201)  \n",
      "11                               mumbai  11:13:51   (17.4514, 72.1989)  \n",
      "12                               mumbai  11:14:51   (17.4543, 72.1977)  \n",
      "13                               mumbai  11:15:51   (17.4506, 72.2005)  \n",
      "14                               mumbai  11:16:51      (17.4585, 72.2)  \n"
     ]
    }
   ],
   "source": [
    "print(df_dummy_janes)\n",
    "print(df_data)"
   ]
  },
  {
   "cell_type": "code",
   "execution_count": 11,
   "id": "0a625017",
   "metadata": {},
   "outputs": [],
   "source": [
    "df_data.to_csv(\"../datasets/data_processed.csv\", index=False)"
   ]
  },
  {
   "cell_type": "code",
   "execution_count": 12,
   "id": "166893a8",
   "metadata": {},
   "outputs": [
    {
     "name": "stdout",
     "output_type": "stream",
     "text": [
      "Index(['id', 'name', 'latitude', 'longitude', 'range', 'bearing', 'course',\n",
      "       'speed', 'altitude', 'depth', 'reported_by', 'comment', 'hostility',\n",
      "       'category', 'nationality', 'location_wrt_naval_borders',\n",
      "       'closest_point_of_mil_interest', 'time', 'location'],\n",
      "      dtype='object')\n"
     ]
    }
   ],
   "source": [
    "print(df_data.columns)"
   ]
  }
 ],
 "metadata": {
  "kernelspec": {
   "display_name": "rag_new_env",
   "language": "python",
   "name": "python3"
  },
  "language_info": {
   "codemirror_mode": {
    "name": "ipython",
    "version": 3
   },
   "file_extension": ".py",
   "mimetype": "text/x-python",
   "name": "python",
   "nbconvert_exporter": "python",
   "pygments_lexer": "ipython3",
   "version": "3.11.11"
  }
 },
 "nbformat": 4,
 "nbformat_minor": 5
}
