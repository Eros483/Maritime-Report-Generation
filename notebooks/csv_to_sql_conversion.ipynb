{
 "cells": [
  {
   "cell_type": "markdown",
   "id": "48570daa",
   "metadata": {},
   "source": [
    "Requisite libraries"
   ]
  },
  {
   "cell_type": "code",
   "execution_count": 1,
   "id": "6a84d764",
   "metadata": {},
   "outputs": [],
   "source": [
    "import pandas as pd\n",
    "from sqlalchemy import create_engine"
   ]
  },
  {
   "cell_type": "markdown",
   "id": "016cce0f",
   "metadata": {},
   "source": [
    "Reading CSV and handling setup of sqlite server"
   ]
  },
  {
   "cell_type": "code",
   "execution_count": 2,
   "id": "b0aedc3e",
   "metadata": {},
   "outputs": [],
   "source": [
    "csv_file_path=\"../datasets/data_processed.csv\"\n",
    "df=pd.read_csv(csv_file_path)"
   ]
  },
  {
   "cell_type": "code",
   "execution_count": 3,
   "id": "c7972a55",
   "metadata": {},
   "outputs": [],
   "source": [
    "database_file=\"../sql_files/myDataBase.db\""
   ]
  },
  {
   "cell_type": "code",
   "execution_count": 4,
   "id": "762e266f",
   "metadata": {},
   "outputs": [],
   "source": [
    "engine=create_engine(f\"sqlite:///{database_file}\")"
   ]
  },
  {
   "cell_type": "code",
   "execution_count": 5,
   "id": "6dfe21f8",
   "metadata": {},
   "outputs": [
    {
     "data": {
      "text/plain": [
       "15"
      ]
     },
     "execution_count": 5,
     "metadata": {},
     "output_type": "execute_result"
    }
   ],
   "source": [
    "df.to_sql('report_data', engine, if_exists='replace', index=False)"
   ]
  }
 ],
 "metadata": {
  "kernelspec": {
   "display_name": "rag_new_env",
   "language": "python",
   "name": "python3"
  },
  "language_info": {
   "codemirror_mode": {
    "name": "ipython",
    "version": 3
   },
   "file_extension": ".py",
   "mimetype": "text/x-python",
   "name": "python",
   "nbconvert_exporter": "python",
   "pygments_lexer": "ipython3",
   "version": "3.11.11"
  }
 },
 "nbformat": 4,
 "nbformat_minor": 5
}
