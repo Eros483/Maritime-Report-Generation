{
 "cells": [
  {
   "cell_type": "markdown",
   "id": "48570daa",
   "metadata": {},
   "source": [
    "Requisite libraries"
   ]
  },
  {
   "cell_type": "code",
   "execution_count": 15,
   "id": "6a84d764",
   "metadata": {},
   "outputs": [],
   "source": [
    "import pandas as pd\n",
    "from sqlalchemy import create_engine"
   ]
  },
  {
   "cell_type": "markdown",
   "id": "016cce0f",
   "metadata": {},
   "source": [
    "Handling OTAS data push"
   ]
  },
  {
   "cell_type": "code",
   "execution_count": 16,
   "id": "b0aedc3e",
   "metadata": {},
   "outputs": [],
   "source": [
    "csv_file_path=\"../datasets/data_processed.csv\"\n",
    "df_OTAS=pd.read_csv(csv_file_path)"
   ]
  },
  {
   "cell_type": "code",
   "execution_count": 17,
   "id": "d220e1a2",
   "metadata": {},
   "outputs": [],
   "source": [
    "dummy_janes_data=\"../datasets/dummy_janes_POI.csv\"\n",
    "df_JANES=pd.read_csv(dummy_janes_data)"
   ]
  },
  {
   "cell_type": "code",
   "execution_count": 18,
   "id": "c7972a55",
   "metadata": {},
   "outputs": [],
   "source": [
    "database_file=\"../sql_files/myDataBase.db\""
   ]
  },
  {
   "cell_type": "code",
   "execution_count": 19,
   "id": "762e266f",
   "metadata": {},
   "outputs": [],
   "source": [
    "engine=create_engine(f\"sqlite:///{database_file}\")"
   ]
  },
  {
   "cell_type": "code",
   "execution_count": 20,
   "id": "6dfe21f8",
   "metadata": {},
   "outputs": [
    {
     "data": {
      "text/plain": [
       "34"
      ]
     },
     "execution_count": 20,
     "metadata": {},
     "output_type": "execute_result"
    }
   ],
   "source": [
    "df_OTAS.to_sql('OTAS_data', engine, if_exists='replace', index=False)\n",
    "df_JANES.to_sql('JANES_data', engine, if_exists='replace', index=False)"
   ]
  }
 ],
 "metadata": {
  "kernelspec": {
   "display_name": "rag_new_env",
   "language": "python",
   "name": "python3"
  },
  "language_info": {
   "codemirror_mode": {
    "name": "ipython",
    "version": 3
   },
   "file_extension": ".py",
   "mimetype": "text/x-python",
   "name": "python",
   "nbconvert_exporter": "python",
   "pygments_lexer": "ipython3",
   "version": "3.11.11"
  }
 },
 "nbformat": 4,
 "nbformat_minor": 5
}
